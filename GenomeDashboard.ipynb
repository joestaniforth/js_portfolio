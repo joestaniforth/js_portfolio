{
 "cells": [
  {
   "cell_type": "code",
   "execution_count": 1,
   "id": "85d8d51b-63ca-4143-8e1f-5fafdfa161cc",
   "metadata": {},
   "outputs": [],
   "source": [
    "from dash import Dash, dcc, html, Input, Output\n",
    "import dash_bootstrap_components as dbc\n",
    "import dash_bio as dashbio\n",
    "import pandas as pd\n",
    "import plotly.express as px\n",
    "import numpy as np\n",
    "import dash_bootstrap_components as dbc"
   ]
  },
  {
   "cell_type": "code",
   "execution_count": 2,
   "id": "c35a32ba-c49e-4135-9639-3460f6e10dfb",
   "metadata": {},
   "outputs": [],
   "source": [
    "app = Dash(external_stylesheets=[dbc.themes.PULSE])"
   ]
  },
  {
   "cell_type": "code",
   "execution_count": 3,
   "id": "eda3cfb7-bb1b-4619-a7eb-1b87b7eb2bb2",
   "metadata": {},
   "outputs": [
    {
     "data": {
      "text/html": [
       "<div>\n",
       "<style scoped>\n",
       "    .dataframe tbody tr th:only-of-type {\n",
       "        vertical-align: middle;\n",
       "    }\n",
       "\n",
       "    .dataframe tbody tr th {\n",
       "        vertical-align: top;\n",
       "    }\n",
       "\n",
       "    .dataframe thead th {\n",
       "        text-align: right;\n",
       "    }\n",
       "</style>\n",
       "<table border=\"1\" class=\"dataframe\">\n",
       "  <thead>\n",
       "    <tr style=\"text-align: right;\">\n",
       "      <th></th>\n",
       "      <th>CHR</th>\n",
       "      <th>BP</th>\n",
       "      <th>P</th>\n",
       "      <th>SNP</th>\n",
       "      <th>ZSCORE</th>\n",
       "      <th>EFFECTSIZE</th>\n",
       "      <th>GENE</th>\n",
       "      <th>DISTANCE</th>\n",
       "      <th>-log10p</th>\n",
       "    </tr>\n",
       "  </thead>\n",
       "  <tbody>\n",
       "    <tr>\n",
       "      <th>0</th>\n",
       "      <td>1</td>\n",
       "      <td>937641</td>\n",
       "      <td>0.335344</td>\n",
       "      <td>rs9697358</td>\n",
       "      <td>0.9634</td>\n",
       "      <td>-0.0946</td>\n",
       "      <td>ISG15</td>\n",
       "      <td>1068</td>\n",
       "      <td>0.474510</td>\n",
       "    </tr>\n",
       "    <tr>\n",
       "      <th>1</th>\n",
       "      <td>1</td>\n",
       "      <td>1136887</td>\n",
       "      <td>0.245857</td>\n",
       "      <td>rs34945898</td>\n",
       "      <td>1.1605</td>\n",
       "      <td>-0.0947</td>\n",
       "      <td>TNFRSF4</td>\n",
       "      <td>0</td>\n",
       "      <td>0.609317</td>\n",
       "    </tr>\n",
       "    <tr>\n",
       "      <th>2</th>\n",
       "      <td>1</td>\n",
       "      <td>2116240</td>\n",
       "      <td>0.823286</td>\n",
       "      <td>rs12034613</td>\n",
       "      <td>0.2233</td>\n",
       "      <td>-0.0741</td>\n",
       "      <td>FP7162</td>\n",
       "      <td>0</td>\n",
       "      <td>0.084449</td>\n",
       "    </tr>\n",
       "    <tr>\n",
       "      <th>3</th>\n",
       "      <td>1</td>\n",
       "      <td>2310562</td>\n",
       "      <td>0.493204</td>\n",
       "      <td>rs4648633</td>\n",
       "      <td>0.6852</td>\n",
       "      <td>0.0146</td>\n",
       "      <td>MORN1</td>\n",
       "      <td>0</td>\n",
       "      <td>0.306974</td>\n",
       "    </tr>\n",
       "    <tr>\n",
       "      <th>4</th>\n",
       "      <td>1</td>\n",
       "      <td>2681715</td>\n",
       "      <td>0.605392</td>\n",
       "      <td>rs4430271</td>\n",
       "      <td>0.5167</td>\n",
       "      <td>0.1234</td>\n",
       "      <td>MMEL1</td>\n",
       "      <td>127427</td>\n",
       "      <td>0.217964</td>\n",
       "    </tr>\n",
       "  </tbody>\n",
       "</table>\n",
       "</div>"
      ],
      "text/plain": [
       "   CHR       BP         P         SNP  ZSCORE  EFFECTSIZE     GENE  DISTANCE  \\\n",
       "0    1   937641  0.335344   rs9697358  0.9634     -0.0946    ISG15      1068   \n",
       "1    1  1136887  0.245857  rs34945898  1.1605     -0.0947  TNFRSF4         0   \n",
       "2    1  2116240  0.823286  rs12034613  0.2233     -0.0741   FP7162         0   \n",
       "3    1  2310562  0.493204   rs4648633  0.6852      0.0146    MORN1         0   \n",
       "4    1  2681715  0.605392   rs4430271  0.5167      0.1234    MMEL1    127427   \n",
       "\n",
       "    -log10p  \n",
       "0  0.474510  \n",
       "1  0.609317  \n",
       "2  0.084449  \n",
       "3  0.306974  \n",
       "4  0.217964  "
      ]
     },
     "execution_count": 3,
     "metadata": {},
     "output_type": "execute_result"
    }
   ],
   "source": [
    "df = pd.read_csv('https://git.io/manhattan_data.csv')\n",
    "df['-log10p'] = -np.log10(df['P'])\n",
    "df.head()"
   ]
  },
  {
   "cell_type": "code",
   "execution_count": 4,
   "id": "d6e14bc6-e11f-4ef3-b524-18ccf61a32ee",
   "metadata": {},
   "outputs": [],
   "source": [
    "sub_df = df[df['CHR'] == 1]"
   ]
  },
  {
   "cell_type": "code",
   "execution_count": 5,
   "id": "3739e3ac-9a0d-471b-aadd-3ee349760894",
   "metadata": {},
   "outputs": [],
   "source": [
    "SIDEBAR_STYLE = {\n",
    "    \"position\": \"fixed\",\n",
    "    \"top\": 0,\n",
    "    \"left\": 0,\n",
    "    \"bottom\": 0,\n",
    "    \"width\": \"20rem\",\n",
    "    \"padding\": \"2rem 1rem\",\n",
    "    'background-color': '592c98'\n",
    "}\n",
    "\n",
    "CONTENT_STYLE = {\n",
    "    \"margin-left\": \"25rem\",\n",
    "    \"margin-right\": \"2rem\",\n",
    "    \"padding\": \"2rem 1rem\",\n",
    "}\n"
   ]
  },
  {
   "cell_type": "code",
   "execution_count": 6,
   "id": "85827ef8-6728-4d5b-b66f-b4694cf1576d",
   "metadata": {},
   "outputs": [],
   "source": [
    "sidebar = html.Div(\n",
    "    [\n",
    "        html.H2('Joseph Staniforth Dash Portfolio', className=\"display-4\"),\n",
    "        html.Hr(),\n",
    "        html.P(\n",
    "            'Controls for the two plots on the right', className=\"lead\"\n",
    "        ),\n",
    "        dbc.Label('Chromosome Scatter Plot'),\n",
    "        dcc.Dropdown([*range(1,24,1)], 1, id='chr_drop_down',\n",
    "                     style = {'display': 'inline-block', 'width': '12em'}),\n",
    "        html.Br(),\n",
    "        dbc.Label('Manhattan Plot'),\n",
    "        dcc.RadioItems(['-log10 p', 'Raw p-value'], '-log10 p', id='log_radio',\n",
    "                       labelStyle={'display': 'block'}),\n",
    "        html.Br(),\n",
    "        dcc.Slider(1, 9, 1, value = 5, id = 'p_slider')\n",
    "    ],\n",
    "    style=SIDEBAR_STYLE,\n",
    ")"
   ]
  },
  {
   "cell_type": "code",
   "execution_count": 7,
   "id": "1ee92151-c6d0-4acf-b8be-ebd29cddd88b",
   "metadata": {},
   "outputs": [],
   "source": [
    "content = html.Div([\n",
    "    html.Br(),\n",
    "    html.Div([\n",
    "        dcc.Graph(id='partial_scatter',\n",
    "                  figure = px.scatter(sub_df, x = 'BP', y = '-log10p', color_discrete_sequence=['#20B2AA'], title = 'Chromosome 1'),\n",
    "                  style={'display': 'inline-block', 'width':'55vh'}),\n",
    "        dcc.Graph(\n",
    "            id='full_manhattan',\n",
    "            figure=dashbio.ManhattanPlot(\n",
    "                dataframe=df,\n",
    "                suggestiveline_value = False,\n",
    "                highlight_color = '#20B2AA',\n",
    "                showlegend = False,\n",
    "            showgrid = False), \n",
    "            style={'display': 'inline-block', 'width':'83vh'})\n",
    "    ],style={'display': 'inline-block'}),\n",
    "], style=CONTENT_STYLE)\n"
   ]
  },
  {
   "cell_type": "code",
   "execution_count": 8,
   "id": "f7821867-9266-4194-879f-882f3e4fb2c0",
   "metadata": {},
   "outputs": [],
   "source": [
    "app.layout = html.Div([sidebar, content])"
   ]
  },
  {
   "cell_type": "code",
   "execution_count": 9,
   "id": "81d2442a-bb18-401b-a169-7fe7bc58dcfe",
   "metadata": {},
   "outputs": [],
   "source": [
    "@app.callback(\n",
    "    Output('full_manhattan', 'figure'),\n",
    "    Input('p_slider', 'value'),\n",
    "    Input('log_radio', 'value')\n",
    ")\n",
    "\n",
    "def update_manhattanplot(p_slider, log_radio):\n",
    "    return dashbio.ManhattanPlot(\n",
    "        dataframe=df,\n",
    "        genomewideline_value=p_slider,\n",
    "        suggestiveline_value = False,\n",
    "        highlight_color = '#20B2AA',\n",
    "        showlegend = False,\n",
    "        logp = True if log_radio == '-log10 p' else False,\n",
    "        showgrid = False\n",
    "    )\n",
    "\n",
    "@app.callback(\n",
    "    Output(\"partial_scatter\", \"figure\"), \n",
    "    Input(\"chr_drop_down\", \"value\"))\n",
    "\n",
    "def update_bar_chart(chr_drop_down):\n",
    "    mask = df[df['CHR'] == chr_drop_down]\n",
    "    fig = px.scatter(mask, x = 'BP', y = '-log10p', color_discrete_sequence=['#20B2AA'], title = f'Chromosome {chr_drop_down}')\n",
    "    return fig\n"
   ]
  },
  {
   "cell_type": "code",
   "execution_count": 10,
   "id": "7cb20246-ce35-498f-bd57-5589c98c0007",
   "metadata": {},
   "outputs": [
    {
     "name": "stdout",
     "output_type": "stream",
     "text": [
      "Dash is running on http://127.0.0.1:8051/\n",
      "\n",
      " * Serving Flask app '__main__' (lazy loading)\n",
      " * Environment: production\n",
      "\u001b[31m   WARNING: This is a development server. Do not use it in a production deployment.\u001b[0m\n",
      "\u001b[2m   Use a production WSGI server instead.\u001b[0m\n",
      " * Debug mode: off\n"
     ]
    },
    {
     "name": "stderr",
     "output_type": "stream",
     "text": [
      " * Running on http://127.0.0.1:8051 (Press CTRL+C to quit)\n"
     ]
    }
   ],
   "source": [
    "app.run_server(port = 8051)"
   ]
  },
  {
   "cell_type": "markdown",
   "id": "b5b6c0e2-0f94-4d68-9447-4550519a4424",
   "metadata": {},
   "source": [
    "![title](ezgif-1-46c3c96bd2.gif)"
   ]
  },
  {
   "cell_type": "code",
   "execution_count": null,
   "id": "845bf1ae-a5f1-46c2-83b1-d6e04e2fe0bf",
   "metadata": {},
   "outputs": [],
   "source": []
  }
 ],
 "metadata": {
  "kernelspec": {
   "display_name": "Python 3 (ipykernel)",
   "language": "python",
   "name": "python3"
  },
  "language_info": {
   "codemirror_mode": {
    "name": "ipython",
    "version": 3
   },
   "file_extension": ".py",
   "mimetype": "text/x-python",
   "name": "python",
   "nbconvert_exporter": "python",
   "pygments_lexer": "ipython3",
   "version": "3.9.5"
  }
 },
 "nbformat": 4,
 "nbformat_minor": 5
}
